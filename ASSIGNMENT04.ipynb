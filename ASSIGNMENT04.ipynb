{
  "nbformat": 4,
  "nbformat_minor": 0,
  "metadata": {
    "colab": {
      "provenance": []
    },
    "kernelspec": {
      "name": "python3",
      "display_name": "Python 3"
    },
    "language_info": {
      "name": "python"
    }
  },
  "cells": [
    {
      "cell_type": "markdown",
      "source": [
        "# Python OOPs Questions"
      ],
      "metadata": {
        "id": "uR_T4zhU-Hot"
      }
    },
    {
      "cell_type": "markdown",
      "source": [
        "1. What is Object-Oriented Programming (OOP)?\n",
        "   - OOPs is a programing approach basically used for object and classes for create code that is well structured ,reuse.OOPs concepts are inheritance , absraction, polymorphism,encapsulation."
      ],
      "metadata": {
        "id": "bH09JQxj-PE4"
      }
    },
    {
      "cell_type": "markdown",
      "source": [
        "2 What is a class in OOP?\n",
        "  - A class is a blueprint/template that is used to create objects."
      ],
      "metadata": {
        "id": "DvWktxJR_Sc-"
      }
    },
    {
      "cell_type": "markdown",
      "source": [
        "3. What is an object in OOP?\n",
        "   - Object is an instance of class.it holds actual data of class and perform action based on class."
      ],
      "metadata": {
        "id": "DtUTDdHtAOSx"
      }
    },
    {
      "cell_type": "markdown",
      "source": [
        "4. What is the difference between abstraction and encapsulation?\n",
        "  - Abstraction>> Hides internal storage and show functionality.eg. suppose we open any website we dont know frontend and backend code visible on screen.we only can see user interface.so abstraction can hide internal data and show the necessary one.\n",
        "  - Encapsulation>>Hides the data.bundling the data and method of class.using access modifier-public(aceesible inside or outside the class),private(access only within its own class),protected(acess its own class and subclass)"
      ],
      "metadata": {
        "id": "Df514FrbB_Oo"
      }
    },
    {
      "cell_type": "markdown",
      "source": [
        "5.What are dunder methods in Python?\n",
        "  - Dunder method is a special method or magic method.it is a method that is defined by built in function in python.it basically used to create d+under means double underscore .it is used to create double underscore in front and end of the name.it is used to define custom behaviour of the object.eg__init__ it take data with respect to object."
      ],
      "metadata": {
        "id": "wmj-X_D3Fji9"
      }
    },
    {
      "cell_type": "markdown",
      "source": [
        "6. Explain the concept of inheritance in OOP?\n",
        "   - Inheritance is a oops concept,in it the child class access the properties of the base class.but base class cannot access child class"
      ],
      "metadata": {
        "id": "d4Uj3PtFH0cW"
      }
    },
    {
      "cell_type": "markdown",
      "source": [
        "7 What is polymorphism in OOP?\n",
        "  - Polymorphism in a oops concept.poly means many and morphism means state/form.it refer to the object that have several form depending on the method.\n",
        "  having method overloading(python not support true overloading),method overriding."
      ],
      "metadata": {
        "id": "0foHJmVjIl_r"
      }
    },
    {
      "cell_type": "markdown",
      "source": [
        "8 How is encapsulation achieved in Python?\n",
        "  - Encapsulation can be achieved through access modifier ie public ,private,and protected."
      ],
      "metadata": {
        "id": "FT5fzbpSJ__1"
      }
    },
    {
      "cell_type": "markdown",
      "source": [
        "9  What is a constructor in Python?\n",
        "   - A construction is a special method in python that is used to intialize the variable of the object when it is created."
      ],
      "metadata": {
        "id": "fEyxHPOpJ_8S"
      }
    },
    {
      "cell_type": "markdown",
      "source": [
        "10 What are class and static methods in Python?\n",
        "   - Class method>> bound the class through @classmethod decorator.it doesnot have a particular instance of class.can be accessed or modified the class state.\n",
        "   - static method-It works like a plain function within the class.doesnot acess ,modified the class state."
      ],
      "metadata": {
        "id": "GH3hrBV8Lkjr"
      }
    },
    {
      "cell_type": "markdown",
      "source": [
        "11.  What is method overloading in Python?\n",
        "    - Method overlodaing is where multiple method with same name but different parameter.in python,it doesnot suppport true method overloading.Python will keep the last method defination."
      ],
      "metadata": {
        "id": "4Idd23WLPyxY"
      }
    },
    {
      "cell_type": "markdown",
      "source": [
        "12. What is method overriding in OOP?\n",
        "    - Method Overriding is occur when parent class and subclass method name are same.so when we call using sub class object the subclass version is executed and the parent class is override."
      ],
      "metadata": {
        "id": "Y2v9sZ2SQ2j7"
      }
    },
    {
      "cell_type": "markdown",
      "source": [
        "13  What is a property decorator in Python?\n",
        "    - The property decorator in python is used to turn method into a read only attribute.it allow you to access method like an attribute without using paranthesis."
      ],
      "metadata": {
        "id": "FGsMRLTkJ-Ya"
      }
    },
    {
      "cell_type": "markdown",
      "source": [
        "14 Why is polymorphism important in OOP?\n",
        "   - In polymorphism ,the method those name same to behave differently based on the object calling .in it method overriding is done, subclass and parent class those have same name method when calling subclass object will execute subclass version."
      ],
      "metadata": {
        "id": "FY5eing8VOeB"
      }
    },
    {
      "cell_type": "markdown",
      "source": [
        "15.What is an abstract class in Python?\n",
        "   - Abstract class is a class where we cannot  create object directly.to create abstract class we use abstract method. so the abstract class inherit the subclass and do implementation for the abstract class."
      ],
      "metadata": {
        "id": "tKuhMQxgY-tV"
      }
    },
    {
      "cell_type": "markdown",
      "source": [
        "16. What are the advantages of OOP?\n",
        "    - OOP helps to hide the internal data.\n",
        "    - helps in method overriding.\n",
        "    - create better structre through class and object.\n",
        "    - scalable."
      ],
      "metadata": {
        "id": "609bUOzybgzb"
      }
    },
    {
      "cell_type": "markdown",
      "source": [
        "17 What is the difference between a class variable and an instance variable?\n",
        "   - Class Variable>> they are inside class but outside the method of class.it have share an instance of class means share a common value.\n",
        "   - Instance Variable>> it is inside in the method of class.it is unique to each object."
      ],
      "metadata": {
        "id": "oymKcL-NcTa3"
      }
    },
    {
      "cell_type": "markdown",
      "source": [
        "18. What is multiple inheritance in Python?\n",
        "    - in it , the child class access the properties of more than one parent class."
      ],
      "metadata": {
        "id": "sfOVpl8NgDmo"
      }
    },
    {
      "cell_type": "markdown",
      "source": [
        "19.Explain the purpose of ‘’__str__’ and ‘__repr__’ ‘ methods in Python?\n",
        "  - __str__>> string representation of object.how we can show the object nicely when you print it.\n",
        "  - __repr__>> how to show the object to developer in more detailed and debugged.it is used to recreate the object."
      ],
      "metadata": {
        "id": "d7dYulX8gTHZ"
      }
    },
    {
      "cell_type": "markdown",
      "source": [
        "20. What is the significance of the ‘super()’ function in Python?\n",
        "    - Super() function call the parent class method inside subclass method."
      ],
      "metadata": {
        "id": "7CMAadlYg6Bd"
      }
    },
    {
      "cell_type": "markdown",
      "source": [
        "21. What is the significance of the __del__ method in Python?\n",
        "   - __del__ method is a destructor.it is automatically called when an object is destroyed."
      ],
      "metadata": {
        "id": "7f6c9j1LpkpN"
      }
    },
    {
      "cell_type": "markdown",
      "source": [
        "22. What is the difference between @staticmethod and @classmethod in Python?\n",
        "    - @staticmethod>> Have no access class or instance.works like a plain function inside class.\n",
        "    - @classmethod>> Have access the class and modifed the class state.It also bound the class ."
      ],
      "metadata": {
        "id": "An8rQlrKrcB0"
      }
    },
    {
      "cell_type": "code",
      "source": [
        "23. How does polymorphism work in Python with inheritance?\n",
        "    - In inhertance,when parentclass and subclass have same method name.so when called the subclass object the subclass version is executed and override the parentclass through method overriding in polymorphism."
      ],
      "metadata": {
        "id": "Db6LFvNbrc_l"
      },
      "execution_count": null,
      "outputs": []
    },
    {
      "cell_type": "markdown",
      "source": [
        "24. What is method chaining in Python OOP?\n",
        "    - Method chaining in Python means multiple method in same object when it is calling."
      ],
      "metadata": {
        "id": "mrsOExketEur"
      }
    },
    {
      "cell_type": "markdown",
      "source": [
        "25. What is the purpose of the __call__ method in Python?\n",
        "    - __call__>> In it, we behave object as a function after using paranthesis. then this method will execute."
      ],
      "metadata": {
        "id": "o47O5If0vTvq"
      }
    },
    {
      "cell_type": "markdown",
      "source": [
        "#Practical Questions"
      ],
      "metadata": {
        "id": "1fnjwVuR6q5n"
      }
    },
    {
      "cell_type": "code",
      "source": [
        "#1. Create a parent class Animal with a method speak() that prints a generic message. Create a child class Dog\n",
        "# that overrides the speak() method to print \"Bark!\"\n",
        "class Animal:\n",
        "  def speak(self):\n",
        "    print(\"a generic message\")\n",
        "class Dog(Animal):\n",
        "  def speak(self):\n",
        "    print(\"Bark!\")\n",
        "d=Dog()\n",
        "d.speak()\n"
      ],
      "metadata": {
        "colab": {
          "base_uri": "https://localhost:8080/"
        },
        "id": "RRQFa8EM6yKP",
        "outputId": "8ee36fef-a843-42d7-fe93-a419903d1009"
      },
      "execution_count": null,
      "outputs": [
        {
          "output_type": "stream",
          "name": "stdout",
          "text": [
            "Bark!\n"
          ]
        }
      ]
    },
    {
      "cell_type": "code",
      "source": [
        "#2. Write a program to create an abstract class Shape with a method area(). Derive classes Circle and Rectangle\n",
        "# from it and implement the area() method in both.\n",
        "import abc\n",
        "class Shape:\n",
        "  def area(self):\n",
        "    pass\n",
        "class Circle(Shape):\n",
        "  def area(self,r):\n",
        "    return 3.14*r**2\n",
        "class Rectangle(Shape):\n",
        "  def area(self,l,b):\n",
        "    return l*b\n",
        "c=Circle()\n",
        "print(\"Circle Area : \",c.area(4))\n",
        "b=Rectangle()\n",
        "print(\"Rectangle Area : \",b.area(3,2))"
      ],
      "metadata": {
        "colab": {
          "base_uri": "https://localhost:8080/"
        },
        "id": "bqp-YoRZ7Ngj",
        "outputId": "023c692f-6966-49f1-f116-b28ff0e5ffce"
      },
      "execution_count": null,
      "outputs": [
        {
          "output_type": "stream",
          "name": "stdout",
          "text": [
            "Circle Area :  50.24\n",
            "Rectangle Area :  6\n"
          ]
        }
      ]
    },
    {
      "cell_type": "code",
      "source": [
        "#3. Implement a multi-level inheritance scenario where a class Vehicle has an attribute type. Derive a class Car\n",
        "# and further derive a class ElectricCar that adds a battery attribute\n",
        "class Vehicle:\n",
        "  def __init__(self,type):\n",
        "    self.type=type\n",
        "class Car(Vehicle):\n",
        "  def __init__(self,type,colour):\n",
        "    super().__init__(type)\n",
        "    self.colour=colour\n",
        "class ElectricCar(Car):\n",
        "  def __init__(self,type,colour,battery):\n",
        "    super().__init__(type,colour)\n",
        "    self.battery=battery\n",
        "  def display(self):\n",
        "    print(f\"type : {self.type}\")\n",
        "    print(f\"colour: {self.colour}\")\n",
        "    print(f\"battery: {self.battery}\")\n",
        "c=ElectricCar(\"4 wheeler\",\"red\",\"33kwh\")\n",
        "c.display()"
      ],
      "metadata": {
        "colab": {
          "base_uri": "https://localhost:8080/"
        },
        "id": "gO9JuN_17p-P",
        "outputId": "35dd47e5-9a66-4f6f-99dc-7b1e6b619903"
      },
      "execution_count": null,
      "outputs": [
        {
          "output_type": "stream",
          "name": "stdout",
          "text": [
            "type : 4 wheeler\n",
            "colour: red\n",
            "battery: 33kwh\n"
          ]
        }
      ]
    },
    {
      "cell_type": "code",
      "source": [
        "#4. Demonstrate polymorphism by creating a base class Bird with a method fly(). Create two derived classes\n",
        "# Sparrow and Penguin that override the fly() method.\n",
        "class Bird():\n",
        "  def fly(self):\n",
        "    return \"birds is fly in base class\"\n",
        "class Sparrow(Bird):\n",
        "  def fly(self):\n",
        "    return\"bird fly is sparrow\"\n",
        "class Penguin(Bird):\n",
        "  def fly(self):\n",
        "    return \"bird fly is Penguine\"\n",
        "s=Sparrow()\n",
        "print(s.fly())\n",
        "s=Penguin()\n",
        "print(s.fly())"
      ],
      "metadata": {
        "colab": {
          "base_uri": "https://localhost:8080/"
        },
        "id": "q3X8NEOaHF_U",
        "outputId": "28ff9084-12e7-427b-e02d-c6e6770f82c8"
      },
      "execution_count": null,
      "outputs": [
        {
          "output_type": "stream",
          "name": "stdout",
          "text": [
            "bird fly is sparrow\n",
            "bird fly is Penguine\n"
          ]
        }
      ]
    },
    {
      "cell_type": "code",
      "source": [
        "#5. Write a program to demonstrate encapsulation by creating a class BankAccount with private attributes\n",
        "# balance and methods to deposit, withdraw, and check balance\n",
        "class BankAccount():\n",
        "  def __init__(self,balance):\n",
        "    self.__balance=balance\n",
        "  def deposit(self,amount):\n",
        "    self.__balance=self.__balance+amount\n",
        "  def withdraw(self,amount):\n",
        "    if self.__balance>=amount:\n",
        "      self.__balance-=amount\n",
        "      return True\n",
        "    else:\n",
        "      return False\n",
        "  def check_balance(self):\n",
        "     return self.__balance\n",
        "c=BankAccount(1000)\n",
        "c.deposit(10)\n",
        "print(c.check_balance())\n",
        "c.withdraw(100)\n",
        "print(c.check_balance())"
      ],
      "metadata": {
        "colab": {
          "base_uri": "https://localhost:8080/"
        },
        "id": "QnH7lFOSKIN0",
        "outputId": "3f593928-5f4c-47ee-fdea-9f1d1ec4db2f"
      },
      "execution_count": null,
      "outputs": [
        {
          "output_type": "stream",
          "name": "stdout",
          "text": [
            "1010\n",
            "910\n"
          ]
        }
      ]
    },
    {
      "cell_type": "code",
      "source": [
        "#6. Demonstrate runtime polymorphism using a method play() in a base class Instrument. Derive classes Guitar\n",
        "#and Piano that implement their own version of play().\n",
        "class Instrument:\n",
        "  def play(self):\n",
        "    pass\n",
        "class Guitar(Instrument):\n",
        "  def play(self):\n",
        "    print(\"Guitar is playing\")\n",
        "class Piano(Instrument):\n",
        "  def play(self):\n",
        "    print(\"Piano is playing\")\n",
        "instrument=[Guitar(),Piano()]\n",
        "for i in instrument:\n",
        "  i.play()"
      ],
      "metadata": {
        "colab": {
          "base_uri": "https://localhost:8080/"
        },
        "id": "mOGyEj0tNc-D",
        "outputId": "4f31e8f1-2dcc-47fb-b7f3-0159d6db62df"
      },
      "execution_count": null,
      "outputs": [
        {
          "output_type": "stream",
          "name": "stdout",
          "text": [
            "Guitar is playing\n",
            "Piano is playing\n"
          ]
        }
      ]
    },
    {
      "cell_type": "code",
      "source": [
        "#7. Create a class MathOperations with a class method add_numbers() to add two numbers and a static\n",
        "# method subtract_numbers() to subtract two numbers.\n",
        "class MathOperations:\n",
        "  @classmethod\n",
        "  def add_numbers(cls,a,b):\n",
        "    return a+b\n",
        "  @staticmethod\n",
        "  def subtract_numbers(a,b):\n",
        "    return a-b\n",
        "print(\"class Method Addition : \",MathOperations.add_numbers(5,4))\n",
        "print(\"Static Method Subtraction : \", MathOperations.subtract_numbers(8,4))\n"
      ],
      "metadata": {
        "id": "o-JsCAf-RSFD",
        "colab": {
          "base_uri": "https://localhost:8080/"
        },
        "outputId": "0dccaeae-ee7a-4b0f-ccf9-9474b9b5b9ff"
      },
      "execution_count": null,
      "outputs": [
        {
          "output_type": "stream",
          "name": "stdout",
          "text": [
            "class Method Addition :  9\n",
            "Static Method Subtraction :  4\n"
          ]
        }
      ]
    },
    {
      "cell_type": "code",
      "source": [
        "from os import name\n",
        "#8. Implement a class Person with a class method to count the total number of persons created.\n",
        "class Person:\n",
        "  count=0\n",
        "  def __init__(self,name):\n",
        "    self.name=name\n",
        "    Person.count+=1\n",
        "  @classmethod\n",
        "  def result(cls):\n",
        "    return cls.count\n",
        "print(Person.result())\n",
        "p1=Person(\"seeraj\")\n",
        "print(Person.result())"
      ],
      "metadata": {
        "colab": {
          "base_uri": "https://localhost:8080/"
        },
        "id": "dTT9n8lsphIt",
        "outputId": "2824ef37-297f-4587-f64e-42d7ee408993"
      },
      "execution_count": null,
      "outputs": [
        {
          "output_type": "stream",
          "name": "stdout",
          "text": [
            "0\n",
            "1\n"
          ]
        }
      ]
    },
    {
      "cell_type": "code",
      "source": [
        "#9. Write a class Fraction with attributes numerator and denominator. Override the str method to display the\n",
        "# fraction as \"numerator/denominator\".\n",
        "class Fraction:\n",
        "  def __init__(self,numerator,denominator):\n",
        "    self.numerator=numerator\n",
        "    self.denominator=denominator\n",
        "  def __str__(self):\n",
        "    return f\"{self.numerator}/{self.denominator}\"\n",
        "f=Fraction(6,4)\n",
        "print(f)"
      ],
      "metadata": {
        "colab": {
          "base_uri": "https://localhost:8080/"
        },
        "id": "yWeYcNYhto8Q",
        "outputId": "801ee9ce-beb5-45cb-bba3-0153761cab8b"
      },
      "execution_count": null,
      "outputs": [
        {
          "output_type": "stream",
          "name": "stdout",
          "text": [
            "6/4\n"
          ]
        }
      ]
    },
    {
      "cell_type": "code",
      "source": [
        "#10. Demonstrate operator overloading by creating a class Vector and overriding the add method to add two\n",
        "# vectors.\n",
        "class  Vector:\n",
        "  def __init__(self,a,b):\n",
        "    self.a=a\n",
        "    self.b=b\n",
        "  def __add__(self,other):\n",
        "    return Vector(self.a + other.a,self.b+other.b)\n",
        "  def __str__(self):\n",
        "    return f\"Vector({self.a},{self.b})\"\n",
        "v1=Vector(3,4)\n",
        "v2=Vector(5,4)\n",
        "v3=v1+v2\n",
        "print(v3)"
      ],
      "metadata": {
        "colab": {
          "base_uri": "https://localhost:8080/"
        },
        "id": "ZIJ5whicvGl2",
        "outputId": "a2093fd8-cdaa-41d9-9fd1-16d32a616502"
      },
      "execution_count": null,
      "outputs": [
        {
          "output_type": "stream",
          "name": "stdout",
          "text": [
            "Vector(8,8)\n"
          ]
        }
      ]
    },
    {
      "cell_type": "code",
      "source": [
        "#11. Create a class Person with attributes name and age. Add a method greet() that prints \"Hello, my name is\n",
        "# {name} and I am {age} years old.\n",
        "class Person:\n",
        "  def __init__(self,name,age):\n",
        "    self.name=name\n",
        "    self.age=age\n",
        "  def greet(self):\n",
        "    print(f\"Hello,my name is {self.name} and Iam {self.age}years old\")\n",
        "p=Person(\"seeraj dogra\",20)\n",
        "p.greet()"
      ],
      "metadata": {
        "colab": {
          "base_uri": "https://localhost:8080/"
        },
        "id": "XDxmh1TOzdRG",
        "outputId": "3f7f7949-b630-4281-db87-4dee35c0af19"
      },
      "execution_count": null,
      "outputs": [
        {
          "output_type": "stream",
          "name": "stdout",
          "text": [
            "Hello,my name is seeraj dogra and Iam 20years old\n"
          ]
        }
      ]
    },
    {
      "cell_type": "code",
      "source": [
        "#12. Implement a class Student with attributes name and grades. Create a method average_grade() to compute\n",
        "# the average of the grades\n",
        "class Student:\n",
        "  def __init__(self,name,grades):\n",
        "    self.name=name\n",
        "    self.grades=grades\n",
        "  def average_grade(self):\n",
        "    if not self.grades:\n",
        "      return 0\n",
        "    return sum(self.grades)/len(self.grades)\n",
        "d=Student(\"seeraj\",[3,4,55,54,3,43,43])\n",
        "d.average_grade()"
      ],
      "metadata": {
        "id": "kmkWZ6GG2QED",
        "colab": {
          "base_uri": "https://localhost:8080/"
        },
        "outputId": "52ba5967-d17a-4764-dbc1-7fbacd85692a"
      },
      "execution_count": 13,
      "outputs": [
        {
          "output_type": "execute_result",
          "data": {
            "text/plain": [
              "29.285714285714285"
            ]
          },
          "metadata": {},
          "execution_count": 13
        }
      ]
    },
    {
      "cell_type": "code",
      "source": [
        "#13. Create a class Rectangle with methods set_dimensions() to set the dimensions and area() to calculate the\n",
        "# area.\n",
        "class Rectangle:\n",
        "  def __init__(self):\n",
        "    self.length=0\n",
        "    self.breadth=0\n",
        "  def set_dimension(self,length,breadth):\n",
        "    self.length=length\n",
        "    self.breadth=breadth\n",
        "  def area(self):\n",
        "    return self.length *self.breadth\n",
        "r=Rectangle()\n",
        "r.set_dimension(43,34)\n",
        "print(f\" The area of dimension length{r.length} and breadth {r.breadth} is : {r.area()}\")"
      ],
      "metadata": {
        "colab": {
          "base_uri": "https://localhost:8080/"
        },
        "id": "S4afEM2TlHWs",
        "outputId": "92e7574a-84e1-4b35-97ea-7ac5c1ede134"
      },
      "execution_count": 25,
      "outputs": [
        {
          "output_type": "stream",
          "name": "stdout",
          "text": [
            " The area of dimension length43 and breadth 34 is : 1462\n"
          ]
        }
      ]
    },
    {
      "cell_type": "code",
      "source": [
        "#14. Create a class Employee with a method calculate_salary() that computes the salary based on hours worked\n",
        "# and hourly rate. Create a derived class Manager that adds a bonus to the salary\n",
        "class Employee:\n",
        "  def calculate_salary(self,hourswork,hoursrate):\n",
        "    self.hourswork=hourswork\n",
        "    self.hoursrate=hoursrate\n",
        "    return self.hourswork*self.hoursrate\n",
        "  def __str__(self):\n",
        "    return f\"The salary is {self.hourswork*self.hoursrate}\"\n",
        "class Manager(Employee):\n",
        "  def add_bonus(self,amount):\n",
        "    self.bonus=amount\n",
        "  def calculate_overall(self,hourswork,hoursrate):\n",
        "    super().calculate_salary(hourswork,hoursrate)\n",
        "    return self.hourswork*self.hoursrate+self.bonus\n",
        "r=Employee()\n",
        "r.calculate_salary(5,600)\n",
        "d=Manager()\n",
        "d.add_bonus(200)\n",
        "d.calculate_overall(5,600)\n"
      ],
      "metadata": {
        "colab": {
          "base_uri": "https://localhost:8080/"
        },
        "id": "R-ags83hpLGV",
        "outputId": "441991e2-e3be-4011-8ab1-03bfcbe19874"
      },
      "execution_count": 43,
      "outputs": [
        {
          "output_type": "execute_result",
          "data": {
            "text/plain": [
              "3200"
            ]
          },
          "metadata": {},
          "execution_count": 43
        }
      ]
    },
    {
      "cell_type": "code",
      "source": [
        "#15. Create a class Product with attributes name, price, and quantity. Implement a method total_price() that\n",
        "#calculates the total price of the product.\n",
        "class Product:\n",
        "    def __init__(self, name, price, quantity):\n",
        "        self.name = name\n",
        "        self.price = price\n",
        "        self.quantity = quantity\n",
        "\n",
        "    def total_price(self):\n",
        "        return self.price * self.quantity\n",
        "\n",
        "p = Product(\"Book\", 15, 3)\n",
        "print(f\"Total price of {p.name} is: {p.total_price()}\")\n"
      ],
      "metadata": {
        "colab": {
          "base_uri": "https://localhost:8080/"
        },
        "id": "5t4pCmjur4rU",
        "outputId": "b74c58f9-607e-4fb0-ab52-a24446d226ec"
      },
      "execution_count": 35,
      "outputs": [
        {
          "output_type": "stream",
          "name": "stdout",
          "text": [
            "Total price of Book is: 45\n"
          ]
        }
      ]
    },
    {
      "cell_type": "code",
      "source": [
        "#16. Create a class Animal with an abstract method sound(). Create two derived classes Cow and Sheep that\n",
        "# implement the sound() method.\n",
        "class Animal:\n",
        "    def sound(self):\n",
        "        print(\"Some generic sound\")\n",
        "\n",
        "class Cow(Animal):\n",
        "    def sound(self):\n",
        "        print(\"Moo\")\n",
        "\n",
        "class Sheep(Animal):\n",
        "    def sound(self):\n",
        "        print(\"Baa\")\n",
        "\n",
        "cow = Cow()\n",
        "cow.sound()\n",
        "\n",
        "sheep = Sheep()\n",
        "sheep.sound()\n",
        "\n"
      ],
      "metadata": {
        "colab": {
          "base_uri": "https://localhost:8080/"
        },
        "id": "s-N9u8Xmvlob",
        "outputId": "df7b2e24-59d6-451f-8e30-e547cb3b1723"
      },
      "execution_count": 36,
      "outputs": [
        {
          "output_type": "stream",
          "name": "stdout",
          "text": [
            "Moo\n",
            "Baa\n"
          ]
        }
      ]
    },
    {
      "cell_type": "code",
      "source": [
        "#17. Create a class Book with attributes title, author, and year_published. Add a method get_book_info() that\n",
        "#returns a formatted string with the book's details.\n",
        "class Book:\n",
        "    def __init__(self, title, author, year_published):\n",
        "        self.title = title\n",
        "        self.author = author\n",
        "        self.year_published = year_published\n",
        "\n",
        "    def get_book_info(self):\n",
        "        return f\"'{self.title}' by {self.author}, published in {self.year_published}\"\n",
        "\n",
        "book = Book(\"1984\", \"George Orwell\", 1949)\n",
        "print(book.get_book_info())"
      ],
      "metadata": {
        "colab": {
          "base_uri": "https://localhost:8080/"
        },
        "id": "YyZADIaMv5jD",
        "outputId": "fa35c7ee-aae0-412b-a40b-3a8fd6dec74c"
      },
      "execution_count": 37,
      "outputs": [
        {
          "output_type": "stream",
          "name": "stdout",
          "text": [
            "'1984' by George Orwell, published in 1949\n"
          ]
        }
      ]
    },
    {
      "cell_type": "code",
      "source": [
        "#18. Create a class House with attributes address and price. Create a derived class Mansion that adds an\n",
        "# attribute number_of_rooms.\n",
        "class House:\n",
        "    def __init__(self, address, price):\n",
        "        self.address = address\n",
        "        self.price = price\n",
        "\n",
        "class Mansion(House):\n",
        "    def __init__(self, address, price, number_of_rooms):\n",
        "        self.address = address\n",
        "        self.price = price\n",
        "        self.number_of_rooms = number_of_rooms\n",
        "m = Mansion(\"456 Luxury Rd\", 2000000, 10)\n",
        "print(m.address, m.price, m.number_of_rooms)\n"
      ],
      "metadata": {
        "colab": {
          "base_uri": "https://localhost:8080/"
        },
        "id": "-ipdnRQ7wEtC",
        "outputId": "8fb65418-d900-47d9-d36a-1a979a211f18"
      },
      "execution_count": 38,
      "outputs": [
        {
          "output_type": "stream",
          "name": "stdout",
          "text": [
            "456 Luxury Rd 2000000 10\n"
          ]
        }
      ]
    },
    {
      "cell_type": "code",
      "source": [],
      "metadata": {
        "id": "VzC8Mu9bwP7w"
      },
      "execution_count": null,
      "outputs": []
    }
  ]
}
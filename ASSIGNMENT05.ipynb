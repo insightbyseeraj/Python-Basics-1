{
  "nbformat": 4,
  "nbformat_minor": 0,
  "metadata": {
    "colab": {
      "provenance": []
    },
    "kernelspec": {
      "name": "python3",
      "display_name": "Python 3"
    },
    "language_info": {
      "name": "python"
    }
  },
  "cells": [
    {
      "cell_type": "code",
      "source": [],
      "metadata": {
        "id": "zaemD_OcCPpf"
      },
      "execution_count": null,
      "outputs": []
    },
    {
      "cell_type": "markdown",
      "source": [
        " # Theoretical Questions"
      ],
      "metadata": {
        "id": "TBqSaNjuCud6"
      }
    },
    {
      "cell_type": "markdown",
      "source": [
        "\n",
        "\n",
        "1.What is the difference between interpreted and compiled languages ?\n",
        "Difference between Interpreted and Compiled Languages:\n",
        "\n",
        "Execution – Compiled languages translate the entire code into machine code before execution, while interpreted languages translate and execute code line by line.\n",
        "\n",
        "Speed – Compiled languages are generally faster, whereas interpreted languages are slower due to real-time translation.\n",
        "\n",
        "Portability – Interpreted languages are more portable across platforms, compiled languages need recompilation for each platform.\n",
        "\n",
        "Examples – Compiled: C, C++ | Interpreted: Python, JavaScript.\n",
        "\n",
        "\n",
        "2. What is exception handling in Python ?\n",
        "Exception handling in Python is a mechanism to manage runtime errors by using 'try', 'except', 'else', and 'finally' blocks, allowing the program to handle unexpected situations gracefully without crashing, and ensuring proper cleanup or alternative actions when errors occur.\n",
        "\n",
        "\n",
        "3. What is the purpose of the finally block in exception handling ?\n",
        "The 'finally' block in Python exception handling is used to define code that will run regardless of whether an exception occurs or not, typically for cleanup tasks like closing files, releasing resources, or resetting states.\n",
        "\n",
        "\n",
        "4. What is logging in Python ?\n",
        "Logging in Python is the process of recording events, errors, and informational messages during a program’s execution using the built-in logging module, which helps in debugging, monitoring, and maintaining applications without interrupting their flow.\n",
        "\n",
        "5. What is the significance of the 'del' method in Python ?\n",
        "The __del__ method in Python is a destructor that is automatically called when an object is about to be destroyed, typically used to release resources or perform cleanup tasks before the object is removed from memory.\n",
        "\n",
        "6. What is the difference between import and from ... import in Python ?\n",
        "import – Imports the entire module, and you access its functions or variables using the module name as a prefix (e.g., math.sqrt()).\n",
        "from ... import – Imports specific functions, classes, or variables from a module, allowing you to use them directly without the module prefix (e.g., sqrt() instead of math.sqrt()).\n",
        "7. How can you handle multiple exceptions in Python ?\n",
        "You can handle multiple exceptions in Python by:\n",
        "\n",
        "Using multiple except blocks – One for each exception type.\n",
        "Catching multiple exceptions in a single block – By grouping them in parentheses, e.g., except (TypeError, ValueError):.\n",
        "8. What is the purpose of the with statement when handling files in Python ?\n",
        "The with statement in Python is used for automatic resource management when working with files, ensuring that the file is properly closed after its block of code is executed, even if an exception occurs.\n",
        "\n",
        "9. What is the difference between multithreading and multiprocessing ?\n",
        "Multithreading – Runs multiple threads within the same process, sharing the same memory space; best for I/O-bound tasks but limited by Python’s GIL for CPU-bound tasks.\n",
        "Multiprocessing – Runs multiple processes with separate memory spaces, allowing true parallelism and better performance for CPU-bound tasks.\n",
        "10. What are the advantages of using logging in a program ?\n",
        "Advantages of using logging in a program:\n",
        "\n",
        "Provides a record of events for debugging and analysis.\n",
        "Allows different log levels (INFO, WARNING, ERROR, etc.) for better control.\n",
        "Helps monitor program execution without interrupting it.\n",
        "Can store logs in files for future reference.\n",
        "11. What is memory management in Python ?\n",
        "Memory management in Python is the process of allocating and releasing memory for objects automatically using a built-in garbage collector and a private heap space, ensuring efficient use of memory and cleanup of unused objects.\n",
        "\n",
        "12. What are the basic steps involved in exception handling in Python ?\n",
        "The basic steps in exception handling in Python are:\n",
        "\n",
        "Wrap risky code in a try block to monitor for errors.\n",
        "Use except block(s) to catch and handle specific or general exceptions.\n",
        "(Optional) Use else block to run code if no exceptions occur.\n",
        "(Optional) Use finally block for cleanup tasks that must run regardless of errors.\n",
        "13. Why is memory management important in Python ?\n",
        "Memory management is important in Python because it ensures efficient use of system resources, prevents memory leaks, improves program performance, and maintains stability by automatically cleaning up unused objects through garbage collection.\n",
        "\n",
        "14. What is the role of try and except in exception handling ?\n",
        "In Python exception handling, the try block contains code that may raise an error, while the except block catches and handles the error, preventing the program from crashing and allowing alternative actions to be taken.\n",
        "\n",
        "15. How does Python's garbage collection system work ?\n",
        "Python’s garbage collection system works by automatically reclaiming memory from objects that are no longer referenced, primarily using reference counting and a cyclic garbage collector to detect and clean up unused objects involved in reference cycles.\n",
        "\n",
        "16. What is the purpose of the else block in exception handling ?\n",
        "The else block in Python exception handling is used to define code that runs only if no exceptions occur in the try block, keeping normal execution code separate from error-handling code.\n",
        "\n",
        "17. What are the common logging levels in Python ?\n",
        "The common logging levels in Python are:\n",
        "\n",
        "DEBUG – Detailed diagnostic information for debugging.\n",
        "INFO – General information about program execution.\n",
        "WARNING – Indication of potential problems.\n",
        "ERROR – Serious issues that prevent part of the program from running.\n",
        "CRITICAL – Severe errors that may cause the program to stop.\n",
        "18. What is the difference between os.fork() and multiprocessing in Python ?\n",
        "os.fork() – Creates a child process by duplicating the current process (Unix/Linux only), offering low-level control but requiring manual handling of communication and synchronization.\n",
        "multiprocessing – A high-level Python module that works cross-platform, providing an easy API to create and manage separate processes with built-in communication and synchronization tools.\n",
        "19. What is the importance of closing a file in Python ?\n",
        "Closing a file in Python is important because it frees up system resources, ensures that all buffered data is written to disk, and prevents file corruption or data loss.\n",
        "\n",
        "20. What is the difference between file.read() and file.readline() in Python ?\n",
        "file.read() – Reads the entire file (or a specified number of bytes) into a single string.\n",
        "file.readline() – Reads only one line from the file at a time, including the newline character.\n",
        "21. What is the logging module in Python used for ?\n",
        "The logging module in Python is used to record messages about a program’s execution—such as debug info, warnings, and errors—allowing developers to monitor, troubleshoot, and analyze the program without interrupting its flow.\n",
        "\n",
        "22. What is the os module in Python used for in file handling ?\n",
        "The os module in Python is used for interacting with the operating system, enabling file handling tasks like creating, deleting, renaming, and navigating directories, as well as retrieving file metadata.\n",
        "\n",
        "23. What are the challenges associated with memory management in Python ?\n",
        "Challenges in Python memory management include handling reference cycles, avoiding memory leaks from lingering references, managing memory for large datasets efficiently, and minimizing overhead from Python’s dynamic object allocation.\n",
        "\n",
        "24. How do you raise an exception manually in Python ?\n",
        "You can raise an exception manually in Python using the raise keyword followed by an exception class, e.g.,\n",
        "\n",
        "raise ValueError(\"Invalid input\")\n",
        "This stops normal execution and triggers the specified exception.\n",
        "\n",
        "25. Why is it important to use multithreading in certain applications ?\n",
        "Multithreading is important in certain applications because it allows multiple tasks to run concurrently within the same process, improving responsiveness and performance in I/O-bound operations like network requests, file handling, or user interface updates."
      ],
      "metadata": {
        "id": "zAEmWka3Cdnt"
      }
    },
    {
      "cell_type": "code",
      "source": [
        "#Practical Questions\n",
        "#1. How can you open a file for writing in Python and write a string to it ?\n",
        "with open(\"file.txt\", \"w\") as f:\n",
        "  f.write(\"Hello, Python!\")"
      ],
      "metadata": {
        "id": "7T6xY_3QCetM"
      },
      "execution_count": null,
      "outputs": []
    },
    {
      "cell_type": "code",
      "source": [
        "#2. Write a Python program to read the contents of a file and print each line.\n",
        "with open(\"file.txt\", \"r\") as f:\n",
        "    for line in f:\n",
        "        print(line.strip())"
      ],
      "metadata": {
        "colab": {
          "base_uri": "https://localhost:8080/"
        },
        "id": "-faXffbzDMTd",
        "outputId": "1dbc1ef5-accf-435c-bcb0-3b191ab27ba8"
      },
      "execution_count": null,
      "outputs": [
        {
          "output_type": "stream",
          "name": "stdout",
          "text": [
            "Hello, Python!\n"
          ]
        }
      ]
    },
    {
      "cell_type": "code",
      "source": [
        "#3. How would you handle a case where the file doesn't exist while trying to open it for reading ?\n",
        "try:\n",
        "    with open(\"file2.txt\", \"r\") as f:\n",
        "        print(f.read())\n",
        "except FileNotFoundError:\n",
        "    print(\"The file does not exist.\")"
      ],
      "metadata": {
        "colab": {
          "base_uri": "https://localhost:8080/"
        },
        "id": "TFEEQv1GDcIi",
        "outputId": "7aca6a44-7612-495b-cc28-45d19cf10de8"
      },
      "execution_count": null,
      "outputs": [
        {
          "output_type": "stream",
          "name": "stdout",
          "text": [
            "The file does not exist.\n"
          ]
        }
      ]
    },
    {
      "cell_type": "code",
      "source": [
        "#4. Write a Python script that reads from one file and writes its content to another file.\n",
        "with open(\"file.txt\", \"r\") as fl, open(\"destination.txt\", \"w\") as dest:\n",
        "    dest.write(fl.read())"
      ],
      "metadata": {
        "id": "bq3MlL86Dh43"
      },
      "execution_count": null,
      "outputs": []
    },
    {
      "cell_type": "code",
      "source": [
        "#5. How would you catch and handle division by zero error in Python ?\n",
        "try:\n",
        "    result = 10 / 0\n",
        "except ZeroDivisionError:\n",
        "    print(\"Error: Cannot divide by zero.\")"
      ],
      "metadata": {
        "colab": {
          "base_uri": "https://localhost:8080/"
        },
        "id": "CA0KzDgkDr-s",
        "outputId": "a279d959-f1aa-4f8d-e882-b665ebc03a82"
      },
      "execution_count": null,
      "outputs": [
        {
          "output_type": "stream",
          "name": "stdout",
          "text": [
            "Error: Cannot divide by zero.\n"
          ]
        }
      ]
    },
    {
      "cell_type": "code",
      "source": [
        "#6. Write a Python program that logs an error message to a log file when a division by zero exception occurs.\n",
        "import logging\n",
        "\n",
        "# Configure logging to write to a file\n",
        "logging.basicConfig(filename=\"error.log\", level=logging.ERROR)\n",
        "\n",
        "try:\n",
        "    result = 10 / 0\n",
        "except ZeroDivisionError as e:\n",
        "    logging.error(f\"Division by zero error: {e}\")"
      ],
      "metadata": {
        "colab": {
          "base_uri": "https://localhost:8080/"
        },
        "id": "tVtzRpo5DvxF",
        "outputId": "a283cdd7-d968-449b-f70b-52c7f8881187"
      },
      "execution_count": null,
      "outputs": [
        {
          "output_type": "stream",
          "name": "stderr",
          "text": [
            "ERROR:root:Division by zero error: division by zero\n"
          ]
        }
      ]
    },
    {
      "cell_type": "code",
      "source": [
        "#7. How do you log information at different levels (INFO, ERROR, WARNING) in Python using the logging module.\n",
        "\n",
        "import logging\n",
        "\n",
        "logging.basicConfig(level=logging.DEBUG)\n",
        "\n",
        "logging.info(\"This is an INFO message.\")\n",
        "logging.warning(\"This is a WARNING message.\")\n",
        "logging.error(\"This is an ERROR message.\")"
      ],
      "metadata": {
        "colab": {
          "base_uri": "https://localhost:8080/"
        },
        "id": "QAGArjZcD23D",
        "outputId": "668586bf-25ee-43f3-c9e5-c1ecb6d58af7"
      },
      "execution_count": null,
      "outputs": [
        {
          "output_type": "stream",
          "name": "stderr",
          "text": [
            "WARNING:root:This is a WARNING message.\n",
            "ERROR:root:This is an ERROR message.\n"
          ]
        }
      ]
    },
    {
      "cell_type": "code",
      "source": [
        "#8. Write a program to handle a file opening error using exception handling.\n",
        "try:\n",
        "    with open(\"myfile.txt\", \"r\") as f:\n",
        "        content = f.read()\n",
        "        print(content)\n",
        "except FileNotFoundError:\n",
        "    print(\"Error: The file does not exist.\")"
      ],
      "metadata": {
        "colab": {
          "base_uri": "https://localhost:8080/"
        },
        "id": "PVEierTrD-dC",
        "outputId": "f8a93c29-8e65-41e9-bcee-fc073af0a7c0"
      },
      "execution_count": null,
      "outputs": [
        {
          "output_type": "stream",
          "name": "stdout",
          "text": [
            "Error: The file does not exist.\n"
          ]
        }
      ]
    },
    {
      "cell_type": "code",
      "source": [
        "#9. How can you read a file line by line and store its content in a list in Python ?\n",
        "with open(\"file.txt\", \"r\") as f:\n",
        "    lines = f.readlines()\n",
        "\n",
        "print(lines)\n",
        "\n",
        "#stores in a list:\n",
        "with open(\"file.txt\", \"r\") as f:\n",
        "    lines = [line.strip() for line in f]"
      ],
      "metadata": {
        "colab": {
          "base_uri": "https://localhost:8080/"
        },
        "id": "PhSm9g3pEDNp",
        "outputId": "cab46446-edf5-4489-f6d6-7abf90f55a9c"
      },
      "execution_count": null,
      "outputs": [
        {
          "output_type": "stream",
          "name": "stdout",
          "text": [
            "['Hello, Python!']\n"
          ]
        }
      ]
    },
    {
      "cell_type": "code",
      "source": [
        "#10. How can you append data to an existing file in Python?\n",
        "with open(\"file.txt\", \"a\") as f:\n",
        "    f.write(\"\\nThis is new appended text.\")"
      ],
      "metadata": {
        "id": "XwDReOdmELnh"
      },
      "execution_count": null,
      "outputs": []
    },
    {
      "cell_type": "code",
      "source": [
        "#11. Write a Python program that uses a try-except block to handle an error when attempting to access a dictionary key that doesn't exist.\n",
        "data = {\"name\": \"Alice\", \"age\": 25}\n",
        "\n",
        "try:\n",
        "    print(data[\"city\"])\n",
        "except KeyError:\n",
        "    print(\"Error: The key does not exist in the dictionary.\")"
      ],
      "metadata": {
        "colab": {
          "base_uri": "https://localhost:8080/"
        },
        "id": "QrEUOMS6EPG5",
        "outputId": "3a7c73f8-8341-47e9-d16c-1c276308c3a7"
      },
      "execution_count": null,
      "outputs": [
        {
          "output_type": "stream",
          "name": "stdout",
          "text": [
            "Error: The key does not exist in the dictionary.\n"
          ]
        }
      ]
    },
    {
      "cell_type": "code",
      "source": [
        "#12. Write a program that demonstrates using multiple except blocks to handle different types of exceptions.\n",
        "\n",
        "try:\n",
        "    num = int(input(\"Enter a number: \"))\n",
        "    result = 10 / num\n",
        "    print(\"Result:\", result)\n",
        "except ValueError:\n",
        "    print(\"Error: Invalid input. Please enter a number.\")\n",
        "except ZeroDivisionError:\n",
        "    print(\"Error: Cannot divide by zero.\")"
      ],
      "metadata": {
        "colab": {
          "base_uri": "https://localhost:8080/"
        },
        "id": "1go9VsGXETD4",
        "outputId": "4b9537cf-e7c7-4cb4-9e3d-d4f970daed33"
      },
      "execution_count": null,
      "outputs": [
        {
          "output_type": "stream",
          "name": "stdout",
          "text": [
            "Enter a number: 12\n",
            "Result: 0.8333333333333334\n"
          ]
        }
      ]
    },
    {
      "cell_type": "code",
      "source": [
        "#13. How would you check if a file exists before attempting to read it in Python ?\n",
        "import os\n",
        "\n",
        "if os.path.exists(\"file.txt\"):\n",
        "    with open(\"file.txt\", \"r\") as f:\n",
        "        print(f.read())\n",
        "else:\n",
        "    print(\"File does not exist.\")"
      ],
      "metadata": {
        "colab": {
          "base_uri": "https://localhost:8080/"
        },
        "id": "i-RE-Y5EEXKk",
        "outputId": "7261d253-ed09-4960-bf43-1c81049c66ad"
      },
      "execution_count": null,
      "outputs": [
        {
          "output_type": "stream",
          "name": "stdout",
          "text": [
            "Hello, Python!\n",
            "This is new appended text.\n"
          ]
        }
      ]
    },
    {
      "cell_type": "code",
      "source": [
        "#14. Write a program that uses the logging module to log both informational and error messages.\n",
        "import logging\n",
        "\n",
        "logging.basicConfig(\n",
        "    level=logging.DEBUG,\n",
        "    format=\"%(levelname)s: %(message)s\"\n",
        ")\n",
        "\n",
        "logging.info(\"Program started successfully.\")\n",
        "try:\n",
        "    result = 10 / 0\n",
        "except ZeroDivisionError as e:\n",
        "    logging.error(f\"An error occurred: {e}\")\n"
      ],
      "metadata": {
        "colab": {
          "base_uri": "https://localhost:8080/"
        },
        "id": "rVdGFHYGEfJn",
        "outputId": "580227a4-dacb-4d73-8b66-bdf2bd90a786"
      },
      "execution_count": null,
      "outputs": [
        {
          "output_type": "stream",
          "name": "stderr",
          "text": [
            "ERROR:root:An error occurred: division by zero\n"
          ]
        }
      ]
    },
    {
      "cell_type": "code",
      "source": [
        "#15. Write a Python program that prints the content of a file and handles the case when the file is empty\n",
        "try:\n",
        "    with open(\"file.txt\", \"r\") as f:\n",
        "        content = f.read()\n",
        "        if content.strip():  # Check if not empty after removing spaces/newlines\n",
        "            print(content)\n",
        "        else:\n",
        "            print(\"The file is empty.\")\n",
        "except FileNotFoundError:\n",
        "    print(\"Error: File not found.\")"
      ],
      "metadata": {
        "colab": {
          "base_uri": "https://localhost:8080/"
        },
        "id": "YYepH_bFEmHM",
        "outputId": "af0d84bf-c337-4ae4-98d3-7c5de06f4ed1"
      },
      "execution_count": null,
      "outputs": [
        {
          "output_type": "stream",
          "name": "stdout",
          "text": [
            "Hello, Python!\n",
            "This is new appended text.\n"
          ]
        }
      ]
    },
    {
      "cell_type": "code",
      "source": [
        "#16. Demonstrate how to use memory profiling to check the memory usage of a small program.\n",
        "from memory_profiler import profile\n",
        "@profile\n",
        "def my_program():\n",
        "    data = [i for i in range(100000)]\n",
        "    total = sum(data)\n",
        "    print(\"Sum:\", total)\n",
        "\n",
        "if __name__ == \"__main__\":\n",
        "    my_program()"
      ],
      "metadata": {
        "id": "L6gs5PhWFcEY"
      },
      "execution_count": null,
      "outputs": []
    },
    {
      "cell_type": "code",
      "source": [
        "#17. Write a Python program to create and write a list of numbers to a file, one number per line.\n",
        "numbers = [10, 20, 30, 40, 50]\n",
        "\n",
        "with open(\"numbers.txt\", \"w\") as f:\n",
        "    for num in numbers:\n",
        "        f.write(str(num) + \"\\n\")"
      ],
      "metadata": {
        "id": "PnPJxBxOEtNO"
      },
      "execution_count": null,
      "outputs": []
    },
    {
      "cell_type": "code",
      "source": [
        "#18. How would you implement a basic logging setup that logs to a file with rotation after 1MB ?\n",
        "import logging\n",
        "from logging.handlers import RotatingFileHandler\n",
        "\n",
        "# Set up rotating log handler\n",
        "handler = RotatingFileHandler(\n",
        "    \"app.log\", maxBytes=1_000_000, backupCount=3\n",
        ")\n",
        "\n",
        "logging.basicConfig(\n",
        "    level=logging.INFO,\n",
        "    format=\"%(asctime)s - %(levelname)s - %(message)s\",\n",
        "    handlers=[handler]\n",
        ")\n",
        "\n",
        "# Example logs\n",
        "for i in range(10000):\n",
        "    logging.info(f\"Log entry {i}\")"
      ],
      "metadata": {
        "id": "BshEdX1mFYuN"
      },
      "execution_count": null,
      "outputs": []
    },
    {
      "cell_type": "code",
      "source": [
        "#19. Write a program that handles both IndexError and KeyError using a try-except block.\n",
        "data_list = [1, 2, 3]\n",
        "data_dict = {\"name\": \"Alice\"}\n",
        "\n",
        "try:\n",
        "    print(data_list[5])       # Will cause IndexError\n",
        "    print(data_dict[\"age\"])   # Will cause KeyError\n",
        "except IndexError:\n",
        "    print(\"Error: List index out of range.\")\n",
        "except KeyError:\n",
        "    print(\"Error: Key not found in dictionary.\")"
      ],
      "metadata": {
        "colab": {
          "base_uri": "https://localhost:8080/"
        },
        "id": "k2k33csLFhbl",
        "outputId": "4c300914-4c22-4a86-b71b-4c4c54d87832"
      },
      "execution_count": null,
      "outputs": [
        {
          "output_type": "stream",
          "name": "stdout",
          "text": [
            "Error: List index out of range.\n"
          ]
        }
      ]
    },
    {
      "cell_type": "code",
      "source": [
        "#20. How would you open a file and read its contents using a context manager in Python ?\n",
        "with open(\"file.txt\", \"r\") as f:\n",
        "    content = f.read()\n",
        "    print(content)"
      ],
      "metadata": {
        "colab": {
          "base_uri": "https://localhost:8080/"
        },
        "id": "gjMMsG2wFlWm",
        "outputId": "e52f3f36-53de-4f9b-d5e7-c74c8485cf0e"
      },
      "execution_count": null,
      "outputs": [
        {
          "output_type": "stream",
          "name": "stdout",
          "text": [
            "Hello, Python!\n",
            "This is new appended text.\n"
          ]
        }
      ]
    },
    {
      "cell_type": "code",
      "source": [
        "#21. Write a Python program that reads a file and prints the number of occurrences of a specific word.\n",
        "word_to_count = \"python\"\n",
        "\n",
        "with open(\"file.txt\", \"r\") as f:\n",
        "    content = f.read().lower()\n",
        "    count = content.count(word_to_count.lower())\n",
        "\n",
        "print(f\"The word '{word_to_count}' occurs {count} times.\")"
      ],
      "metadata": {
        "colab": {
          "base_uri": "https://localhost:8080/"
        },
        "id": "-PuqIWJjFqOQ",
        "outputId": "1e2a0ebd-8800-453b-f1c7-32e560ba2444"
      },
      "execution_count": null,
      "outputs": [
        {
          "output_type": "stream",
          "name": "stdout",
          "text": [
            "The word 'python' occurs 1 times.\n"
          ]
        }
      ]
    },
    {
      "cell_type": "code",
      "source": [
        "#22. How can you check if a file is empty before attempting to read its contents ?\n",
        "import os\n",
        "\n",
        "file_path = \"file.txt\"\n",
        "\n",
        "if os.path.exists(file_path) and os.path.getsize(file_path) > 0:\n",
        "    with open(file_path, \"r\") as f:\n",
        "        print(f.read())\n",
        "else:\n",
        "    print(\"The file is empty or does not exist.\")"
      ],
      "metadata": {
        "colab": {
          "base_uri": "https://localhost:8080/"
        },
        "id": "W1Vo4dGNFyM8",
        "outputId": "b15a9195-3628-4c98-a4d0-db2508e12b9f"
      },
      "execution_count": null,
      "outputs": [
        {
          "output_type": "stream",
          "name": "stdout",
          "text": [
            "Hello, Python!\n",
            "This is new appended text.\n"
          ]
        }
      ]
    },
    {
      "cell_type": "code",
      "source": [
        "#23. Write a Python program that writes to a log file when an error occurs during file handling.\n",
        "import logging\n",
        "\n",
        "# Configure logging to write to a file\n",
        "logging.basicConfig(filename=\"file_errors.log\", level=logging.ERROR,\n",
        "                    format=\"%(asctime)s - %(levelname)s - %(message)s\")\n",
        "\n",
        "try:\n",
        "    with open(\"nonexistent.txt\", \"r\") as f:\n",
        "        content = f.read()\n",
        "except FileNotFoundError as e:\n",
        "    logging.error(f\"File not found: {e}\")"
      ],
      "metadata": {
        "colab": {
          "base_uri": "https://localhost:8080/"
        },
        "id": "TNO6R3PlGLer",
        "outputId": "865faa45-f359-4cfa-a4b0-103a468e27d4"
      },
      "execution_count": null,
      "outputs": [
        {
          "output_type": "stream",
          "name": "stderr",
          "text": [
            "ERROR:root:File not found: [Errno 2] No such file or directory: 'nonexistent.txt'\n"
          ]
        }
      ]
    },
    {
      "cell_type": "code",
      "source": [],
      "metadata": {
        "id": "he9A5OfHGh0i"
      },
      "execution_count": null,
      "outputs": []
    }
  ]
}